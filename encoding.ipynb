{
  "nbformat": 4,
  "nbformat_minor": 0,
  "metadata": {
    "colab": {
      "provenance": []
    },
    "kernelspec": {
      "name": "python3",
      "display_name": "Python 3"
    },
    "language_info": {
      "name": "python"
    }
  },
  "cells": [
    {
      "cell_type": "code",
      "execution_count": 1,
      "metadata": {
        "id": "ujCzPQWowz8y"
      },
      "outputs": [],
      "source": [
        "import pandas as pd\n"
      ]
    },
    {
      "cell_type": "code",
      "source": [
        "df=pd.DataFrame({\"text\":[\"people watch cricket\",\"cricket watch cricket\",\"people write comment\",\"cricket write comment\"],\"output\":[1,1,0,0]})"
      ],
      "metadata": {
        "id": "V62mZwmuxLIT"
      },
      "execution_count": 3,
      "outputs": []
    },
    {
      "cell_type": "code",
      "source": [
        "print(df)"
      ],
      "metadata": {
        "colab": {
          "base_uri": "https://localhost:8080/"
        },
        "id": "tJEWwICszrm7",
        "outputId": "21f54614-9b25-4ad3-839e-b782f7e9ee08"
      },
      "execution_count": 4,
      "outputs": [
        {
          "output_type": "stream",
          "name": "stdout",
          "text": [
            "                    text  output\n",
            "0   people watch cricket       1\n",
            "1  cricket watch cricket       1\n",
            "2   people write comment       0\n",
            "3  cricket write comment       0\n"
          ]
        }
      ]
    },
    {
      "cell_type": "code",
      "source": [
        "#Document matrix(BOW)"
      ],
      "metadata": {
        "id": "HBIh1z7Tz0r-"
      },
      "execution_count": 9,
      "outputs": []
    },
    {
      "cell_type": "code",
      "source": [
        "from sklearn.feature_extraction.text import CountVectorizer"
      ],
      "metadata": {
        "id": "TOfSP42N0o7W"
      },
      "execution_count": 8,
      "outputs": []
    },
    {
      "cell_type": "code",
      "source": [
        "BOW=CountVectorizer()"
      ],
      "metadata": {
        "id": "eBQ3FLBu08Nj"
      },
      "execution_count": 11,
      "outputs": []
    },
    {
      "cell_type": "code",
      "source": [
        "document_matrix=BOW.fit_transform(df[\"text\"])#here we convert data into BOW"
      ],
      "metadata": {
        "id": "jJ9Hit38170R"
      },
      "execution_count": 13,
      "outputs": []
    },
    {
      "cell_type": "code",
      "source": [
        "print(document_matrix)# here we got data as document format so next step is to go with volcublary"
      ],
      "metadata": {
        "colab": {
          "base_uri": "https://localhost:8080/"
        },
        "id": "2F9E3kz72Paa",
        "outputId": "08a898e5-8ecf-4a0f-96a9-19b44afe4242"
      },
      "execution_count": 15,
      "outputs": [
        {
          "output_type": "stream",
          "name": "stdout",
          "text": [
            "  (0, 2)\t1\n",
            "  (0, 3)\t1\n",
            "  (0, 1)\t1\n",
            "  (1, 3)\t1\n",
            "  (1, 1)\t2\n",
            "  (2, 2)\t1\n",
            "  (2, 4)\t1\n",
            "  (2, 0)\t1\n",
            "  (3, 1)\t1\n",
            "  (3, 4)\t1\n",
            "  (3, 0)\t1\n"
          ]
        }
      ]
    },
    {
      "cell_type": "code",
      "source": [
        "document_matrix"
      ],
      "metadata": {
        "colab": {
          "base_uri": "https://localhost:8080/"
        },
        "id": "M9WbOYcT2q8T",
        "outputId": "df2970a4-d802-4290-c978-f9aa5e2accba"
      },
      "execution_count": 16,
      "outputs": [
        {
          "output_type": "execute_result",
          "data": {
            "text/plain": [
              "<4x5 sparse matrix of type '<class 'numpy.int64'>'\n",
              "\twith 11 stored elements in Compressed Sparse Row format>"
            ]
          },
          "metadata": {},
          "execution_count": 16
        }
      ]
    },
    {
      "cell_type": "code",
      "source": [
        "BOW.vocabulary_"
      ],
      "metadata": {
        "colab": {
          "base_uri": "https://localhost:8080/"
        },
        "id": "zTR-R0y020vb",
        "outputId": "554c0a27-e5e5-4ea3-e5b9-fff1b0a073f0"
      },
      "execution_count": 17,
      "outputs": [
        {
          "output_type": "execute_result",
          "data": {
            "text/plain": [
              "{'people': 2, 'watch': 3, 'cricket': 1, 'write': 4, 'comment': 0}"
            ]
          },
          "metadata": {},
          "execution_count": 17
        }
      ]
    },
    {
      "cell_type": "code",
      "source": [
        "document_matrix[0].toarray()"
      ],
      "metadata": {
        "colab": {
          "base_uri": "https://localhost:8080/"
        },
        "id": "nZ-kCXgC3V6X",
        "outputId": "e9fa555a-d739-45b5-d8c4-929c39f5be60"
      },
      "execution_count": 18,
      "outputs": [
        {
          "output_type": "execute_result",
          "data": {
            "text/plain": [
              "array([[0, 1, 1, 1, 0]])"
            ]
          },
          "metadata": {},
          "execution_count": 18
        }
      ]
    },
    {
      "cell_type": "code",
      "source": [
        "#n-gram range"
      ],
      "metadata": {
        "id": "U4TWt_CI3hHD"
      },
      "execution_count": 19,
      "outputs": []
    },
    {
      "cell_type": "code",
      "source": [
        "bigram=CountVectorizer(ngram_range=(3,3))"
      ],
      "metadata": {
        "id": "MdIWyRfT6G3T"
      },
      "execution_count": 28,
      "outputs": []
    },
    {
      "cell_type": "code",
      "source": [
        "bigramvocab=bigram.fit_transform(df[\"text\"])"
      ],
      "metadata": {
        "id": "pPEhkYbI6RGe"
      },
      "execution_count": 29,
      "outputs": []
    },
    {
      "cell_type": "code",
      "source": [
        "bigram.vocabulary_"
      ],
      "metadata": {
        "colab": {
          "base_uri": "https://localhost:8080/"
        },
        "id": "qKlHlni76qfA",
        "outputId": "57425a3b-11c9-4704-c9dc-1adfce80f7fd"
      },
      "execution_count": 30,
      "outputs": [
        {
          "output_type": "execute_result",
          "data": {
            "text/plain": [
              "{'people watch cricket': 2,\n",
              " 'cricket watch cricket': 0,\n",
              " 'people write comment': 3,\n",
              " 'cricket write comment': 1}"
            ]
          },
          "metadata": {},
          "execution_count": 30
        }
      ]
    },
    {
      "cell_type": "code",
      "source": [
        "#TF-IDE"
      ],
      "metadata": {
        "id": "8Z-bqW_q64pA"
      },
      "execution_count": 31,
      "outputs": []
    },
    {
      "cell_type": "code",
      "source": [
        "from sklearn.feature_extraction.text import TfidfVectorizer"
      ],
      "metadata": {
        "id": "7yZC0kDt9bw-"
      },
      "execution_count": 32,
      "outputs": []
    },
    {
      "cell_type": "code",
      "source": [
        "tfide=TfidfVectorizer()"
      ],
      "metadata": {
        "id": "fV0WbAce93tX"
      },
      "execution_count": 33,
      "outputs": []
    },
    {
      "cell_type": "code",
      "source": [
        "ml=tfide.fit_transform(df[\"text\"]).toarray()"
      ],
      "metadata": {
        "id": "FDsSvY__97Zk"
      },
      "execution_count": 38,
      "outputs": []
    },
    {
      "cell_type": "code",
      "source": [
        "print(ml)"
      ],
      "metadata": {
        "colab": {
          "base_uri": "https://localhost:8080/"
        },
        "id": "CiX_OZmn-HSy",
        "outputId": "07cbfd07-e681-4216-ace7-9770307d039a"
      },
      "execution_count": 39,
      "outputs": [
        {
          "output_type": "stream",
          "name": "stdout",
          "text": [
            "[[0.         0.49681612 0.61366674 0.61366674 0.        ]\n",
            " [0.         0.8508161  0.         0.52546357 0.        ]\n",
            " [0.57735027 0.         0.57735027 0.         0.57735027]\n",
            " [0.61366674 0.49681612 0.         0.         0.61366674]]\n"
          ]
        }
      ]
    },
    {
      "cell_type": "code",
      "source": [],
      "metadata": {
        "id": "0NhhbSVt-LVP"
      },
      "execution_count": null,
      "outputs": []
    }
  ]
}