{
 "cells": [
  {
   "cell_type": "code",
   "execution_count": 1,
   "id": "54dde40e",
   "metadata": {},
   "outputs": [
    {
     "name": "stdout",
     "output_type": "stream",
     "text": [
      "7\n"
     ]
    }
   ],
   "source": [
    "## recursion method\n",
    "def binarySearch(arr,x,i,j):\n",
    "    while i<=j:\n",
    "        mid = i + (j-i)//2\n",
    "        if arr[mid] == x:\n",
    "            return mid\n",
    "        elif arr[mid] < x:\n",
    "            return binarySearch(arr,x,mid+1,j)\n",
    "        else:\n",
    "            return binarySearch(arr,x,i,mid-1)\n",
    "\n",
    "arr = [20,30,40,50,60,70,80,90]\n",
    "x = 90\n",
    "i = 0\n",
    "j = len(arr)-1\n",
    "result = binarySearch(arr,x,i,j)\n",
    "print(result)"
   ]
  },
  {
   "cell_type": "code",
   "execution_count": 2,
   "id": "7cf8774b",
   "metadata": {},
   "outputs": [
    {
     "name": "stdout",
     "output_type": "stream",
     "text": [
      "7\n"
     ]
    }
   ],
   "source": [
    "## without recursion method \n",
    "def binarySearch(arr,x,i,j):\n",
    "    while i<=j:\n",
    "        mid = i + (j-i)//2\n",
    "        if arr[mid] == x:\n",
    "            return mid\n",
    "        elif arr[mid] < x:\n",
    "            i = mid+1\n",
    "        else:\n",
    "            j = mid-1\n",
    "\n",
    "arr = [20,30,40,50,60,70,80,90]\n",
    "x = 90\n",
    "i = 0\n",
    "j = len(arr)-1\n",
    "result = binarySearch(arr,x,i,j)\n",
    "print(result)"
   ]
  },
  {
   "cell_type": "code",
   "execution_count": null,
   "id": "d6d49625",
   "metadata": {},
   "outputs": [],
   "source": []
  }
 ],
 "metadata": {
  "kernelspec": {
   "display_name": "Python 3 (ipykernel)",
   "language": "python",
   "name": "python3"
  },
  "language_info": {
   "codemirror_mode": {
    "name": "ipython",
    "version": 3
   },
   "file_extension": ".py",
   "mimetype": "text/x-python",
   "name": "python",
   "nbconvert_exporter": "python",
   "pygments_lexer": "ipython3",
   "version": "3.9.7"
  }
 },
 "nbformat": 4,
 "nbformat_minor": 5
}
